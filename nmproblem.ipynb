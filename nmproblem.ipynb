{
 "cells": [
  {
   "cell_type": "markdown",
   "metadata": {},
   "source": [
    "先使用暴力数数，快速建立一个验证函数。数的关键是，不重复/不遗漏。\n",
    "可以把所有三角形的形态，分为8种：上下左右4个方向，每个方向两个（附着在水平或垂直线上）。"
   ]
  },
  {
   "cell_type": "code",
   "execution_count": 26,
   "metadata": {},
   "outputs": [
    {
     "name": "stdout",
     "output_type": "stream",
     "text": [
      "8\n",
      "44\n",
      "124\n"
     ]
    }
   ],
   "source": [
    "\n",
    "def tri(x, y, bHorz, delta, xlimit, ylimit):\n",
    "    if bHorz:\n",
    "        ret = ( ( x+delta/2<=xlimit and  y+delta/2 <= ylimit) \n",
    "            +( x+delta <=xlimit and y+delta <= ylimit)\n",
    "            +( x+delta/2 <=xlimit and y-delta/2 >= 0 )\n",
    "            +( x <= xlimit and y-delta >=0 ) )\n",
    "    else:\n",
    "        ret = ( (x-delta/2 >=0 and y+delta/2 <= ylimit) \n",
    "            +(x-delta >=0 and y+delta <= ylimit)\n",
    "            +(x+delta/2 <= xlimit and y+delta/2 <= ylimit)\n",
    "            +(x+delta <= xlimit and y <= ylimit) )\n",
    "    return ret\n",
    "\n",
    "def brute_nm(n, m):\n",
    "    total = 0\n",
    "    for x in range(n+1):\n",
    "        for y in range(m+1):\n",
    "            for delta in range(1, n-x+1):\n",
    "                total += tri(x,y, True,  delta,n, m)\n",
    "            for delta in range(1, m-y+1):\n",
    "                total += tri(x,y, False, delta,n, m)\n",
    "    return total\n",
    "\n",
    "for i in range(1,4):print(brute_nm(i,i))\n"
   ]
  },
  {
   "cell_type": "markdown",
   "metadata": {},
   "source": [
    "对n * n的矩阵\n",
    "看单个方向，向上生长的三角形：长度为i的水平线段，每条横线上n+1-i段，附带的两个三角形都在大矩形内的，有n+1-i条横线，附带的两个三角形只有小者在大矩形内的有 (n+1-i)//2条。  对 2*i^2 + i*(n+1-i)//2 从1到n求和。\n",
    "总数 = 单个方向数再乘4"
   ]
  },
  {
   "cell_type": "code",
   "execution_count": 27,
   "metadata": {},
   "outputs": [
    {
     "name": "stdout",
     "output_type": "stream",
     "text": [
      "3045100 3045100.0\n"
     ]
    }
   ],
   "source": [
    "\n",
    "def algo_n0(n):\n",
    "    return (sum(i*i for i in range(1,n+1)) * 2 + sum(i * ((n+1-i)//2) for i in range(1,n+1)))*4\n",
    "\n",
    "# 对algo_n0，转换成通项公式，其中 n%2也可以转换成(-1)^n的相关形态\n",
    "def algo_n(n):\n",
    "    return (6*n**3 + 9*n**2 + 2*n - n%2)/2 \n",
    "\n",
    "print(algo_n0(100), algo_n(100))"
   ]
  },
  {
   "cell_type": "markdown",
   "metadata": {},
   "source": [
    "上面的计算，可以推出两点：结果是n的三次多项式，存在(-1)^n的部分。 使用sympy再推导一下，与手算结果比对。"
   ]
  },
  {
   "cell_type": "code",
   "execution_count": 29,
   "metadata": {},
   "outputs": [
    {
     "name": "stdout",
     "output_type": "stream",
     "text": [
      "{e: 1/4, d: -1/4, c: 1, b: 9/2, a: 3}\n"
     ]
    },
    {
     "data": {
      "image/png": "[encoded data removed]",
      "text/latex": [
       "$\\displaystyle \\frac{\\left(-1\\right)^{n}}{4} + 3 n^{3} + \\frac{9 n^{2}}{2} + n - \\frac{1}{4}$"
      ],
      "text/plain": [
       "    n             2        \n",
       "(-1)       3   9⋅n        1\n",
       "───── + 3⋅n  + ──── + n - ─\n",
       "  4             2         4"
      ]
     },
     "metadata": {},
     "output_type": "display_data"
    }
   ],
   "source": [
    "from sympy import symbols, solve, init_printing\n",
    "init_printing()\n",
    "\n",
    "def expr_n():\n",
    "    ps = symbols('a,b,c,d,e')\n",
    "    n = symbols('n')\n",
    "    func = ps[0] *n**3 + ps[1] *n**2 + ps[2]*n + ps[3] + ps[4]*(-1)**n\n",
    "    eqs = []\n",
    "    for i in range(1, 9, 1):\n",
    "        eqs.append(func.subs({'n':i}) - brute_nm(i,i))\n",
    "    coefs = solve(eqs, ps)\n",
    "    print(coefs)\n",
    "    realfunc = func.subs(coefs)\n",
    "    display(realfunc)\n",
    "\n",
    "expr_n()\n"
   ]
  },
  {
   "cell_type": "markdown",
   "metadata": {},
   "source": [
    "根据上面的经验，用sympy推导nm的表达式。 分为m<=n<2m 与 n>=2m，两个条件。\n",
    "（开始使用统一方程组来推导，无法求解，则逐步划分条件）"
   ]
  },
  {
   "cell_type": "code",
   "execution_count": 36,
   "metadata": {},
   "outputs": [
    {
     "name": "stdout",
     "output_type": "stream",
     "text": [
      "{c11: 1/8, c10: 1/8, c6: 1/4, c8: 5/6, c3: -5/6, c9: -1/4, c5: 4, c1: 1, c7: 1/6, c2: 3, c4: 1/4, c0: -1/6}\n"
     ]
    },
    {
     "data": {
      "image/png": "[encoded data removed]",
      "text/latex": [
       "$\\displaystyle 3 \\left(-1\\right)^{m} + 3 \\left(-1\\right)^{n} - 20 m^{3} + 72 m^{2} n + 6 m^{2} + 24 m n^{2} + 96 m n + 20 m - 4 n^{3} + 6 n^{2} + 4 n - 6$"
      ],
      "text/plain": [
       "      m         n       3       2        2         2                      3   \n",
       "3⋅(-1)  + 3⋅(-1)  - 20⋅m  + 72⋅m ⋅n + 6⋅m  + 24⋅m⋅n  + 96⋅m⋅n + 20⋅m - 4⋅n  + \n",
       "\n",
       "   2          \n",
       "6⋅n  + 4⋅n - 6"
      ]
     },
     "metadata": {},
     "output_type": "display_data"
    },
    {
     "name": "stdout",
     "output_type": "stream",
     "text": [
      "{c6: -3/4, c10: 1/8, c9: -1/8, c7: 0, c8: 7/6, c11: 0, c5: 5, c3: -13/6, c4: 0, c2: 5, c1: 0, c0: 0}\n"
     ]
    },
    {
     "data": {
      "image/png": "[encoded data removed]",
      "text/latex": [
       "$\\displaystyle 3 \\left(-1\\right)^{m} - 52 m^{3} + 120 m^{2} n - 18 m^{2} + 120 m n + 28 m - 3$"
      ],
      "text/plain": [
       "      m       3        2         2                     \n",
       "3⋅(-1)  - 52⋅m  + 120⋅m ⋅n - 18⋅m  + 120⋅m⋅n + 28⋅m - 3"
      ]
     },
     "metadata": {},
     "output_type": "display_data"
    }
   ],
   "source": [
    "def expr_nm():\n",
    "    n,m = symbols('n m')\n",
    "    vs = (n*n*n , n*n*m , n*m*m , m*m*m\n",
    "            , n*n , n*m , m*m, n , m, 1\n",
    "            , (-1)**m , (-1)**n)\n",
    "    ps = symbols(['c%d'%i for i in range(len(vs))])\n",
    "    func = sum(p*v for p,v in zip(ps, vs))\n",
    "\n",
    "    eqs = []\n",
    "    try:\n",
    "        for y in range(1, 100):\n",
    "            for x in range(y, 100):\n",
    "                if x < 2*y:\n",
    "                    eqs.append(func.subs({'n':x, 'm':y}) - brute_nm(x, y))\n",
    "                if len(eqs) >= 2*len(ps):  #方程数要适当多于多项式参数\n",
    "                    raise StopIteration\n",
    "    except StopIteration:\n",
    "        pass\n",
    "    coefs_less2 = solve(eqs, ps)\n",
    "    print(coefs_less2)\n",
    "    realfunc_less2 = func.subs(coefs_less2)\n",
    "    #print(f\"m<=n<2m: ({realfunc_less2*24})/24\")\n",
    "    display(realfunc_less2*24) #放大24倍，方便通分展示\n",
    "\n",
    "    eqs = []\n",
    "    try:\n",
    "        for x in range(1, 100):\n",
    "            for y in range(1, x+1):\n",
    "                if 2*y <= x:\n",
    "                    eqs.append(func.subs({'n':x, 'm':y}) - brute_nm(x, y))\n",
    "                    if len(eqs) >= 3*len(ps):\n",
    "                        raise StopIteration\n",
    "                else:\n",
    "                    break\n",
    "    except StopIteration:\n",
    "        pass\n",
    "    coefs_more2 = solve(eqs, ps)\n",
    "    print(coefs_more2)\n",
    "    realfunc_more2 = func.subs(coefs_more2)\n",
    "    #print(f\"n>=2m: ({realfunc_more2*24})/24\")\n",
    "    display(realfunc_more2*24) #放大24倍，方便通分展示\n",
    "\n",
    "expr_nm()"
   ]
  },
  {
   "cell_type": "markdown",
   "metadata": {},
   "source": [
    "根据上面的计算，转换成算法algo_nm如下"
   ]
  },
  {
   "cell_type": "code",
   "execution_count": 40,
   "metadata": {},
   "outputs": [
    {
     "name": "stdout",
     "output_type": "stream",
     "text": [
      "Done\n"
     ]
    }
   ],
   "source": [
    "\n",
    "def algo_nm(n,m):\n",
    "    '''  '''\n",
    "    if n<m:\n",
    "        n,m = m,n\n",
    "    if n < 2*m:\n",
    "        return (- 20*m**3 + 72*m**2*n + 6*m**2 + 24*m*n**2 \n",
    "            + 96*m*n + 20*m - 4*n**3 + 6*n**2 + 4*n - 6 + 3*(-1)**m + 3*(-1)**n)/24\n",
    "    else:\n",
    "        return (-52*m**3 + 120*m**2*n - 18*m**2 + 120*m*n + 28*m - \n",
    "                3*(1-(-1)**m))/24\n",
    "\n",
    "def test():\n",
    "    for x in range(1,30):\n",
    "        for y in range(1,x+1):\n",
    "            assert(brute_nm(x,y) == algo_nm(x,y))\n",
    "    print('Done')\n",
    "\n",
    "test()"
   ]
  },
  {
   "cell_type": "code",
   "execution_count": null,
   "metadata": {},
   "outputs": [],
   "source": []
  }
 ],
 "metadata": {
  "kernelspec": {
   "display_name": "Python 3",
   "language": "python",
   "name": "python3"
  },
  "language_info": {
   "codemirror_mode": {
    "name": "ipython",
    "version": 3
   },
   "file_extension": ".py",
   "mimetype": "text/x-python",
   "name": "python",
   "nbconvert_exporter": "python",
   "pygments_lexer": "ipython3",
   "version": "3.7.4"
  }
 },
 "nbformat": 4,
 "nbformat_minor": 2
}
